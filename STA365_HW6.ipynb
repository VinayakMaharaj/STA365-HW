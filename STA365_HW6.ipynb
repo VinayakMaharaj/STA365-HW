{
  "nbformat": 4,
  "nbformat_minor": 0,
  "metadata": {
    "colab": {
      "provenance": []
    },
    "kernelspec": {
      "name": "python3",
      "display_name": "Python 3"
    },
    "language_info": {
      "name": "python"
    }
  },
  "cells": [
    {
      "cell_type": "code",
      "execution_count": 7,
      "metadata": {
        "colab": {
          "base_uri": "https://localhost:8080/",
          "height": 239
        },
        "id": "OMh4KhXRdQv0",
        "outputId": "26af75e0-757e-4895-fe53-b7f786a82287"
      },
      "outputs": [
        {
          "output_type": "display_data",
          "data": {
            "text/plain": [
              "<IPython.core.display.HTML object>"
            ],
            "text/html": [
              "\n",
              "<style>\n",
              "    /* Turns off some styling */\n",
              "    progress {\n",
              "        /* gets rid of default border in Firefox and Opera. */\n",
              "        border: none;\n",
              "        /* Needs to be in here for Safari polyfill so background images work as expected. */\n",
              "        background-size: auto;\n",
              "    }\n",
              "    progress:not([value]), progress:not([value])::-webkit-progress-bar {\n",
              "        background: repeating-linear-gradient(45deg, #7e7e7e, #7e7e7e 10px, #5c5c5c 10px, #5c5c5c 20px);\n",
              "    }\n",
              "    .progress-bar-interrupted, .progress-bar-interrupted::-webkit-progress-bar {\n",
              "        background: #F44336;\n",
              "    }\n",
              "</style>\n"
            ]
          },
          "metadata": {}
        },
        {
          "output_type": "display_data",
          "data": {
            "text/plain": [
              "<IPython.core.display.HTML object>"
            ],
            "text/html": [
              "\n",
              "    <div>\n",
              "      <progress value='3000' class='' max='3000' style='width:300px; height:20px; vertical-align: middle;'></progress>\n",
              "      100.00% [3000/3000 00:27&lt;00:00 Sampling chain 0, 0 divergences]\n",
              "    </div>\n",
              "    "
            ]
          },
          "metadata": {}
        },
        {
          "output_type": "display_data",
          "data": {
            "text/plain": [
              "<IPython.core.display.HTML object>"
            ],
            "text/html": [
              "\n",
              "<style>\n",
              "    /* Turns off some styling */\n",
              "    progress {\n",
              "        /* gets rid of default border in Firefox and Opera. */\n",
              "        border: none;\n",
              "        /* Needs to be in here for Safari polyfill so background images work as expected. */\n",
              "        background-size: auto;\n",
              "    }\n",
              "    progress:not([value]), progress:not([value])::-webkit-progress-bar {\n",
              "        background: repeating-linear-gradient(45deg, #7e7e7e, #7e7e7e 10px, #5c5c5c 10px, #5c5c5c 20px);\n",
              "    }\n",
              "    .progress-bar-interrupted, .progress-bar-interrupted::-webkit-progress-bar {\n",
              "        background: #F44336;\n",
              "    }\n",
              "</style>\n"
            ]
          },
          "metadata": {}
        },
        {
          "output_type": "display_data",
          "data": {
            "text/plain": [
              "<IPython.core.display.HTML object>"
            ],
            "text/html": [
              "\n",
              "    <div>\n",
              "      <progress value='3000' class='' max='3000' style='width:300px; height:20px; vertical-align: middle;'></progress>\n",
              "      100.00% [3000/3000 00:01&lt;00:00 Sampling chain 1, 1,999 divergences]\n",
              "    </div>\n",
              "    "
            ]
          },
          "metadata": {}
        },
        {
          "output_type": "display_data",
          "data": {
            "text/plain": [
              "<IPython.core.display.HTML object>"
            ],
            "text/html": [
              "\n",
              "<style>\n",
              "    /* Turns off some styling */\n",
              "    progress {\n",
              "        /* gets rid of default border in Firefox and Opera. */\n",
              "        border: none;\n",
              "        /* Needs to be in here for Safari polyfill so background images work as expected. */\n",
              "        background-size: auto;\n",
              "    }\n",
              "    progress:not([value]), progress:not([value])::-webkit-progress-bar {\n",
              "        background: repeating-linear-gradient(45deg, #7e7e7e, #7e7e7e 10px, #5c5c5c 10px, #5c5c5c 20px);\n",
              "    }\n",
              "    .progress-bar-interrupted, .progress-bar-interrupted::-webkit-progress-bar {\n",
              "        background: #F44336;\n",
              "    }\n",
              "</style>\n"
            ]
          },
          "metadata": {}
        },
        {
          "output_type": "display_data",
          "data": {
            "text/plain": [
              "<IPython.core.display.HTML object>"
            ],
            "text/html": [
              "\n",
              "    <div>\n",
              "      <progress value='3000' class='' max='3000' style='width:300px; height:20px; vertical-align: middle;'></progress>\n",
              "      100.00% [3000/3000 00:01&lt;00:00 Sampling chain 0, 1,999 divergences]\n",
              "    </div>\n",
              "    "
            ]
          },
          "metadata": {}
        },
        {
          "output_type": "display_data",
          "data": {
            "text/plain": [
              "<IPython.core.display.HTML object>"
            ],
            "text/html": [
              "\n",
              "<style>\n",
              "    /* Turns off some styling */\n",
              "    progress {\n",
              "        /* gets rid of default border in Firefox and Opera. */\n",
              "        border: none;\n",
              "        /* Needs to be in here for Safari polyfill so background images work as expected. */\n",
              "        background-size: auto;\n",
              "    }\n",
              "    progress:not([value]), progress:not([value])::-webkit-progress-bar {\n",
              "        background: repeating-linear-gradient(45deg, #7e7e7e, #7e7e7e 10px, #5c5c5c 10px, #5c5c5c 20px);\n",
              "    }\n",
              "    .progress-bar-interrupted, .progress-bar-interrupted::-webkit-progress-bar {\n",
              "        background: #F44336;\n",
              "    }\n",
              "</style>\n"
            ]
          },
          "metadata": {}
        },
        {
          "output_type": "display_data",
          "data": {
            "text/plain": [
              "<IPython.core.display.HTML object>"
            ],
            "text/html": [
              "\n",
              "    <div>\n",
              "      <progress value='3000' class='' max='3000' style='width:300px; height:20px; vertical-align: middle;'></progress>\n",
              "      100.00% [3000/3000 00:01&lt;00:00 Sampling chain 1, 1,999 divergences]\n",
              "    </div>\n",
              "    "
            ]
          },
          "metadata": {}
        },
        {
          "output_type": "stream",
          "name": "stdout",
          "text": [
            "Posterior means of betas: [-0.29160427  0.62069775  0.07978702 -0.74919934 -0.23571071  0.83360848\n",
            " -0.33064008  0.32011737]\n",
            "Posterior mean of intercept: -0.11595224118186646\n"
          ]
        }
      ],
      "source": [
        "import pymc as pm\n",
        "import numpy as np\n",
        "import pandas as pd\n",
        "\n",
        "# Load the dataset\n",
        "data = pd.read_csv('diabetes.csv')\n",
        "\n",
        "# Assuming 'Outcome' is the binary target variable and all other columns are predictors\n",
        "X = data.drop('Outcome', axis=1).values\n",
        "y = data['Outcome'].values\n",
        "\n",
        "n, p = X.shape  # n is the number of observations, p is the number of features\n",
        "\n",
        "with pm.Model() as logistic_model:\n",
        "    # Priors for the regression coefficients\n",
        "    betas = pm.Normal('betas', mu=0, sigma=10, shape=p)\n",
        "    # Priors for the intercept\n",
        "    intercept = pm.Normal('intercept', mu=0, sigma=10)\n",
        "\n",
        "    # Calculate probabilities using the logistic function\n",
        "    logits = pm.math.dot(X, betas) + intercept\n",
        "    p = pm.math.sigmoid(logits)\n",
        "\n",
        "    # Bernoulli likelihood for the binary outcomes\n",
        "    y_obs = pm.Bernoulli('y_obs', p=p, observed=y)\n",
        "\n",
        "    # Perform MCMC\n",
        "    trace = pm.sample(2000, tune=1000, return_inferencedata=False)\n",
        "# Continue from the previous PyMC model setup...\n",
        "\n",
        "with logistic_model:\n",
        "    # Sample from the posterior\n",
        "    trace = pm.sample(2000, tune=1000, return_inferencedata=False)\n",
        "\n",
        "# Extracting the trace values for the betas and the intercept\n",
        "betas_posterior = trace['betas']\n",
        "intercept_posterior = trace['intercept']\n",
        "\n",
        "# You can use the posterior samples of betas and the intercept to further analyze the model or make predictions\n",
        "# For instance, you can calculate the mean of the posterior distributions\n",
        "betas_mean = np.mean(betas_posterior, axis=0)\n",
        "intercept_mean = np.mean(intercept_posterior)\n",
        "\n",
        "print('Posterior means of betas:', betas_mean)\n",
        "print('Posterior mean of intercept:', intercept_mean)\n",
        "\n",
        "# Here you might want to calculate posterior predictive checks or other diagnostics manually using numpy\n",
        "# For example, calculating the expected probabilities using the posterior means\n",
        "expected_probabilities = 1 / (1 + np.exp(-(np.dot(X, betas_mean) + intercept_mean)))\n",
        "\n",
        "# Assuming a threshold of 0.5 for classification\n",
        "predicted_classes = expected_probabilities >= 0.5\n",
        "\n",
        "# Posterior analysis\n",
        "# Note: In practice, you would want to check trace plots, autocorrelation, and other diagnostics to assess convergence.\n",
        "# Here we will just print the summary which includes the R-hat statistic for convergence diagnostics.\n",
        "\n",
        "\n"
      ]
    },
    {
      "cell_type": "code",
      "source": [
        "import pymc as pm\n",
        "import numpy as np\n",
        "import pandas as pd\n",
        "\n",
        "# Load the dataset\n",
        "data = pd.read_csv('diabetes.csv')\n",
        "\n",
        "# Assuming 'Outcome' is the binary target variable and all other columns are predictors\n",
        "X = data.drop('Outcome', axis=1).values\n",
        "y = data['Outcome'].values\n",
        "\n",
        "n, p = X.shape  # n is the number of observations, p is the number of features\n",
        "\n",
        "with pm.Model() as robust_regression_model:\n",
        "    # Priors for the regression coefficients\n",
        "    betas = pm.Normal('betas', mu=0, sigma=10, shape=p)\n",
        "    # Priors for the intercept\n",
        "    intercept = pm.Normal('intercept', mu=0, sigma=10)\n",
        "\n",
        "    # Prior for the variance of the errors\n",
        "    sigma = pm.HalfCauchy('sigma', beta=1)\n",
        "\n",
        "    # Prior for the degrees of freedom of the t-distribution\n",
        "    nu = pm.Gamma('nu', alpha=2, beta=0.1)\n",
        "\n",
        "    # Expected value of outcome\n",
        "    mu = pm.math.dot(X, betas) + intercept\n",
        "\n",
        "    # Likelihood (sampling distribution) of observations\n",
        "    y_obs = pm.StudentT('y_obs', nu=nu, mu=mu, sigma=sigma, observed=y)\n",
        "\n",
        "    # Perform MCMC\n",
        "    trace = pm.sample(2000, tune=1000, return_inferencedata=False)\n",
        "# Extract the trace values for each parameter\n",
        "betas_trace = trace.get_values('betas')\n",
        "intercept_trace = trace.get_values('intercept')\n",
        "sigma_trace = trace.get_values('sigma')\n",
        "nu_trace = trace.get_values('nu')\n",
        "\n",
        "# Calculate summary statistics for each parameter\n",
        "betas_mean = np.mean(betas_trace, axis=0)\n",
        "intercept_mean = np.mean(intercept_trace)\n",
        "sigma_mean = np.mean(sigma_trace)\n",
        "nu_mean = np.mean(nu_trace)\n",
        "\n",
        "betas_std = np.std(betas_trace, axis=0)\n",
        "intercept_std = np.std(intercept_trace)\n",
        "sigma_std = np.std(sigma_trace)\n",
        "nu_std = np.std(nu_trace)\n",
        "\n",
        "print('Posterior means of betas:', betas_mean)\n",
        "print('Posterior standard deviation of betas:', betas_std)\n",
        "print('Posterior mean of intercept:', intercept_mean)\n",
        "print('Posterior standard deviation of intercept:', intercept_std)\n",
        "print('Posterior mean of sigma:', sigma_mean)\n",
        "print('Posterior standard deviation of sigma:', sigma_std)\n",
        "print('Posterior mean of nu:', nu_mean)\n",
        "print('Posterior standard deviation of nu:', nu_std)\n"
      ],
      "metadata": {
        "colab": {
          "base_uri": "https://localhost:8080/",
          "height": 285
        },
        "id": "0yGP9x0yRAhW",
        "outputId": "be43be6f-df32-4fc0-e0ab-0b2ff38f7958"
      },
      "execution_count": 8,
      "outputs": [
        {
          "output_type": "display_data",
          "data": {
            "text/plain": [
              "<IPython.core.display.HTML object>"
            ],
            "text/html": [
              "\n",
              "<style>\n",
              "    /* Turns off some styling */\n",
              "    progress {\n",
              "        /* gets rid of default border in Firefox and Opera. */\n",
              "        border: none;\n",
              "        /* Needs to be in here for Safari polyfill so background images work as expected. */\n",
              "        background-size: auto;\n",
              "    }\n",
              "    progress:not([value]), progress:not([value])::-webkit-progress-bar {\n",
              "        background: repeating-linear-gradient(45deg, #7e7e7e, #7e7e7e 10px, #5c5c5c 10px, #5c5c5c 20px);\n",
              "    }\n",
              "    .progress-bar-interrupted, .progress-bar-interrupted::-webkit-progress-bar {\n",
              "        background: #F44336;\n",
              "    }\n",
              "</style>\n"
            ]
          },
          "metadata": {}
        },
        {
          "output_type": "display_data",
          "data": {
            "text/plain": [
              "<IPython.core.display.HTML object>"
            ],
            "text/html": [
              "\n",
              "    <div>\n",
              "      <progress value='3000' class='' max='3000' style='width:300px; height:20px; vertical-align: middle;'></progress>\n",
              "      100.00% [3000/3000 00:22&lt;00:00 Sampling chain 0, 0 divergences]\n",
              "    </div>\n",
              "    "
            ]
          },
          "metadata": {}
        },
        {
          "output_type": "display_data",
          "data": {
            "text/plain": [
              "<IPython.core.display.HTML object>"
            ],
            "text/html": [
              "\n",
              "<style>\n",
              "    /* Turns off some styling */\n",
              "    progress {\n",
              "        /* gets rid of default border in Firefox and Opera. */\n",
              "        border: none;\n",
              "        /* Needs to be in here for Safari polyfill so background images work as expected. */\n",
              "        background-size: auto;\n",
              "    }\n",
              "    progress:not([value]), progress:not([value])::-webkit-progress-bar {\n",
              "        background: repeating-linear-gradient(45deg, #7e7e7e, #7e7e7e 10px, #5c5c5c 10px, #5c5c5c 20px);\n",
              "    }\n",
              "    .progress-bar-interrupted, .progress-bar-interrupted::-webkit-progress-bar {\n",
              "        background: #F44336;\n",
              "    }\n",
              "</style>\n"
            ]
          },
          "metadata": {}
        },
        {
          "output_type": "display_data",
          "data": {
            "text/plain": [
              "<IPython.core.display.HTML object>"
            ],
            "text/html": [
              "\n",
              "    <div>\n",
              "      <progress value='3000' class='' max='3000' style='width:300px; height:20px; vertical-align: middle;'></progress>\n",
              "      100.00% [3000/3000 00:20&lt;00:00 Sampling chain 1, 0 divergences]\n",
              "    </div>\n",
              "    "
            ]
          },
          "metadata": {}
        },
        {
          "output_type": "stream",
          "name": "stdout",
          "text": [
            "Posterior means of betas: [ 2.08422191e-02  6.13065643e-03 -2.37538397e-03  9.75741251e-05\n",
            " -1.79293496e-04  1.32545427e-02  1.53349166e-01  2.60393656e-03]\n",
            "Posterior standard deviation of betas: [0.00538671 0.00052435 0.00079154 0.00112344 0.00015211 0.00208509\n",
            " 0.04659565 0.00157752]\n",
            "Posterior mean of intercept: -0.8826710589240888\n",
            "Posterior standard deviation of intercept: 0.08715451363396334\n",
            "Posterior mean of sigma: 0.39386327353214684\n",
            "Posterior standard deviation of sigma: 0.010684959802735344\n",
            "Posterior mean of nu: 46.928173635929234\n",
            "Posterior standard deviation of nu: 17.946738566248687\n"
          ]
        }
      ]
    }
  ]
}